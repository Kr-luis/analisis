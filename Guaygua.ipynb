{
 "cells": [
  {
   "cell_type": "code",
   "execution_count": 4,
   "id": "0d49ef21-ef81-4e73-8f80-ea2be20ace97",
   "metadata": {},
   "outputs": [],
   "source": [
    "import time\n",
    "def ejercicio1():\n",
    "    archivo_entrada = '29.txt'\n",
    "    archivo_salida = 'Guaygua1.txt'\n",
    "    inicio = time.time()\n",
    "    with open(archivo_entrada,'r', encoding = 'utf-8') as lectura:\n",
    "        contenido = lectura.read()\n",
    "        total= contenido.split()\n",
    "    sum_palabras = len(total)\n",
    "    fin = time.time()\n",
    "    timepo_total = fin - inicio\n",
    "    with open(archivo_salida , 'w', encoding = 'utf-8') as archivo:\n",
    "        archivo.write(f'Palabras totales: {sum_palabras}\\n')\n",
    "        archivo.write(f'Tiempo: {timepo_total} segundos\\n')\n",
    "        archivo.close()\n",
    "ejercicio1()"
   ]
  },
  {
   "cell_type": "code",
   "execution_count": 9,
   "id": "5b14530f-54da-4f95-93e2-bf98a8241b89",
   "metadata": {},
   "outputs": [],
   "source": [
    "import time \n",
    "def ejercicio2():\n",
    "    archivo_entrada = '29.txt'\n",
    "    archivo_salida = 'Guaygua2.txt'\n",
    "    inicio = time.time()\n",
    "    frecuencia = {}\n",
    "    with open(archivo_entrada,'r', encoding = 'utf-8') as lectura:\n",
    "        contenido = lectura.read()\n",
    "        total= contenido.split()\n",
    "        for palabra in total:\n",
    "            palabra = palabra.strip(\".,!?;:´\\\"()[]{}\")\n",
    "            palabra = palabra.lower()\n",
    "            frecuencia[palabra] = frecuencia.get(palabra, 0) + 1\n",
    "    sin_repetir = len(frecuencia)\n",
    "    fin = time.time()\n",
    "    timepo_total = fin - inicio\n",
    "    with open(archivo_salida , 'w', encoding = 'utf-8') as archivo:\n",
    "        archivo.write(f'Palabras totales sin repetirse: {sin_repetir}\\n')\n",
    "        archivo.write(f'Tiempo: {timepo_total} segundos\\n')\n",
    "        archivo.close()\n",
    "ejercicio2()"
   ]
  },
  {
   "cell_type": "code",
   "execution_count": 10,
   "id": "f599f69a-8ad5-41d7-870d-a684d7d2a39e",
   "metadata": {},
   "outputs": [],
   "source": [
    "import time \n",
    "def ejercicio3():\n",
    "    archivo_entrada = '29.txt'\n",
    "    archivo_salida = 'Guaygua3.txt'\n",
    "    inicio = time.time()\n",
    "    with open(archivo_entrada,'r', encoding = 'utf-8') as lectura:\n",
    "        contenido = lectura.read()\n",
    "        total= contenido.split()\n",
    "    menores_5 = [palabra for palabra in total if len(palabra) < 5]\n",
    "    sum_menores_5 = len(menores_5)\n",
    "    fin = time.time()\n",
    "    timepo_total = fin - inicio\n",
    "    with open(archivo_salida , 'w', encoding = 'utf-8') as archivo:\n",
    "        archivo.write(f'Palabras menores a 5 caracteres: {sum_menores_5}\\n')\n",
    "        archivo.write(f'Tiempo: {timepo_total} segundos\\n')\n",
    "        archivo.close()\n",
    "ejercicio3()"
   ]
  },
  {
   "cell_type": "code",
   "execution_count": 12,
   "id": "672ae444-5a20-4a2b-af8c-25cc15d9d829",
   "metadata": {},
   "outputs": [],
   "source": [
    "import time \n",
    "def ejercicio4():\n",
    "    archivo_entrada = '29.txt'\n",
    "    archivo_salida = 'Guaygua4.txt'\n",
    "    inicio = time.time()\n",
    "    frecuencia = {}\n",
    "    with open(archivo_entrada,'r', encoding = 'utf-8') as lectura:\n",
    "        contenido = lectura.read()\n",
    "        total= contenido.split()\n",
    "    menores5_sin_repetir = set(palabra.lower() for palabra in total if len(palabra) < 5)\n",
    "    sum_menores5_sin_repetir = len(menores5_sin_repetir)\n",
    "    fin = time.time()\n",
    "    timepo_total = fin - inicio\n",
    "    with open(archivo_salida , 'w', encoding = 'utf-8') as archivo:\n",
    "        archivo.write(f'Palabras menores a 5 caracteres sin repetir: {sum_menores5_sin_repetir}\\n')\n",
    "        archivo.write(f'Tiempo: {timepo_total} segundos\\n')\n",
    "        archivo.close()\n",
    "ejercicio4()"
   ]
  },
  {
   "cell_type": "code",
   "execution_count": 34,
   "id": "8477b001-d7fa-4593-a17b-83fe50dc3e09",
   "metadata": {},
   "outputs": [],
   "source": [
    "def ejercicio5(archivo_entrada):\n",
    "    with open(archivo_entrada, 'r', encoding = 'utf-8') as lectura:\n",
    "        contenido = lectura.read()\n",
    "        total= contenido.split()\n",
    "        \n",
    "    frecuencia = {}\n",
    "    for palabra in total:\n",
    "        palabra = palabra.lower()\n",
    "        frecuencia[palabra] = frecuencia.get(palabra, 0) + 1\n",
    "    top_10 = sorted(frecuencia.items(), key=lambda x: x[1], reverse = True)[:10]\n",
    "    return top_10\n",
    "\n",
    "def main():\n",
    "    ejercicio1()\n",
    "    ejercicio2()\n",
    "    ejercicio3()\n",
    "    ejercicio4()\n",
    "    top_10_frecuencia = ejercicio5('29.txt')\n",
    "    with open('Guaygua5.txt', 'w', encoding = 'utf-8') as ar_top_10:\n",
    "        ar_top_10.write(\"Top 10 palabras mas repetidas: \\n\")\n",
    "        for palabra, frecuencia in top_10_frecuencia:\n",
    "            ar_top_10.write(f'{palabra} : {frecuencia} veces\\n')\n",
    "\n",
    "main()"
   ]
  },
  {
   "cell_type": "code",
   "execution_count": null,
   "id": "eb35c7b4-4246-407b-935b-470ef9ca7f3c",
   "metadata": {},
   "outputs": [],
   "source": []
  }
 ],
 "metadata": {
  "kernelspec": {
   "display_name": "Python 3 (ipykernel)",
   "language": "python",
   "name": "python3"
  },
  "language_info": {
   "codemirror_mode": {
    "name": "ipython",
    "version": 3
   },
   "file_extension": ".py",
   "mimetype": "text/x-python",
   "name": "python",
   "nbconvert_exporter": "python",
   "pygments_lexer": "ipython3",
   "version": "3.12.0"
  }
 },
 "nbformat": 4,
 "nbformat_minor": 5
}
